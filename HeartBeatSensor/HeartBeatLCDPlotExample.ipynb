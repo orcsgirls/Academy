{
 "cells": [
  {
   "cell_type": "markdown",
   "id": "252193bf",
   "metadata": {},
   "source": [
    "## Heartbeat and Blox Oxygen Sensor\n",
    "\n",
    "Details about the sensor can be found [here](https://wiki.dfrobot.com/SKU_SEN0518_Gravity_MAX30102_Heart_Rate_and_Oximeter_Sensor). \n",
    "For the Notebooks to work, the driver Python files `DFRobot_BloodOxygen_S.py` and `DFRobot_RTU.py` need to be in the same folder."
   ]
  },
  {
   "cell_type": "code",
   "execution_count": null,
   "id": "d094ee64",
   "metadata": {},
   "outputs": [],
   "source": [
    "import sys\n",
    "import os\n",
    "import time\n",
    "import RPi.GPIO as GPIO\n",
    "from IPython.display import clear_output, display\n",
    "from DFRobot_BloodOxygen_S import *\n",
    "from datetime import datetime\n",
    "from matplotlib import pyplot\n",
    "\n",
    "I2C_1       = 0x01      \n",
    "I2C_ADDRESS = 0x57\n",
    "\n",
    "max30102 = DFRobot_BloodOxygen_S_i2c(I2C_1,I2C_ADDRESS)\n",
    "\n",
    "%matplotlib inline\n",
    "pyplot.rcParams['figure.figsize'] = [10, 5]"
   ]
  },
  {
   "cell_type": "code",
   "execution_count": null,
   "id": "fe475e33",
   "metadata": {},
   "outputs": [],
   "source": [
    "# Setup\n",
    "while (False == max30102.begin()):\n",
    "    print(\"init fail!\")\n",
    "    time.sleep(1)"
   ]
  },
  {
   "cell_type": "markdown",
   "id": "d6be3204",
   "metadata": {},
   "source": [
    "#### Adding the LCD screen\n",
    "\n",
    "Using the code from the Enivro Pi camp, we create a class to write to the display."
   ]
  },
  {
   "cell_type": "code",
   "execution_count": null,
   "id": "ecf4c6f7",
   "metadata": {},
   "outputs": [],
   "source": [
    "import ST7735\n",
    "from PIL import Image, ImageDraw, ImageFont\n",
    "from fonts.ttf import RobotoMedium as UserFont\n",
    "\n",
    "class lcdscreen():\n",
    "    def __init__(self):\n",
    "        self.disp = ST7735.ST7735(port=0,cs=1,dc=9,backlight=12,rotation=270,spi_speed_hz=10000000)\n",
    "        self.disp.begin()\n",
    "\n",
    "        self.back_color = (0, 60, 20)\n",
    "        self.text_color = (255, 255, 255)\n",
    "        self.head_color = (255, 255,   0)\n",
    "        self.warn_color = (255,  50,  50)\n",
    "        self.font_size  = 14\n",
    "        self.font_size_big = 24\n",
    "        self.text_margin= 5\n",
    "\n",
    "        self.img = Image.new('RGBA', (self.disp.width, self.disp.height))\n",
    "        self.draw = ImageDraw.Draw(self.img)\n",
    "        self.font = ImageFont.truetype(UserFont, self.font_size)\n",
    "        self.font_big = ImageFont.truetype(UserFont, self.font_size_big)\n",
    "        self.size_x, self.size_y = self.draw.textsize('text', self.font)\n",
    "        \n",
    "        self.header = \"ORCSPIHealth Station\"\n",
    "        self.label = \"Waiting\"\n",
    "        self.value = \"\"\n",
    "        self.update(self.label, self.value)\n",
    "\n",
    "    def update(self, label, value): \n",
    "        self.label = label;\n",
    "        self.value = value\n",
    "        \n",
    "        self.draw.rectangle((0, 0, self.disp.width, self.disp.height), self.back_color)\n",
    "        self.draw.text((self.text_margin, self.text_margin), self.header, font=self.font, fill=self.head_color)\n",
    "        self.draw.text((self.text_margin, self.text_margin+2.0*self.size_y), label, font=self.font, fill=self.text_color)\n",
    "        self.draw.text((self.text_margin, self.text_margin+3.5*self.size_y), value, font=self.font_big, fill=self.text_color)\n",
    "        self.disp.display(self.img)\n",
    "\n",
    "    def clear(self):\n",
    "        self.draw.rectangle((0, 0, self.disp.width, self.disp.height), self.back_color)\n",
    "        self.disp.display(self.img)"
   ]
  },
  {
   "cell_type": "markdown",
   "id": "47eda131",
   "metadata": {},
   "source": [
    "#### Measuring Loop"
   ]
  },
  {
   "cell_type": "code",
   "execution_count": null,
   "id": "9a113035",
   "metadata": {},
   "outputs": [],
   "source": [
    "lcd=lcdscreen()\n",
    "max30102.sensor_start_collect()\n",
    "time.sleep(1)\n",
    "\n",
    "values = []   # List for plotting"
   ]
  },
  {
   "cell_type": "code",
   "execution_count": null,
   "id": "73ac83d0",
   "metadata": {},
   "outputs": [],
   "source": [
    "try:\n",
    "    while True:  \n",
    "        now = datetime.now()\n",
    "\n",
    "        max30102.get_heartbeat_SPO2()\n",
    "        h = max30102.heartbeat\n",
    "        o = max30102.SPO2\n",
    "        t = max30102.get_temperature_c()\n",
    "        lcd.update(\"Heartbeat\",f\"{h} beats/min\")\n",
    "        \n",
    "        values.append(h)\n",
    "        \n",
    "        pyplot.plot(values)\n",
    "        pyplot.title(f\"O2: {o} %\")\n",
    "        pyplot.title(f\"H: {h} beats/min\", loc='left')\n",
    "        pyplot.title(f\"T: {t:.1f} C\", loc='right')\n",
    "        pyplot.suptitle(f\"Updated: {now.strftime('%H:%M:%S')}\")\n",
    "        clear_output(wait=True)\n",
    "        display(pyplot.gcf())\n",
    "        \n",
    "        time.sleep(1)\n",
    "        \n",
    "except KeyboardInterrupt:\n",
    "    max30102.sensor_end_collect()\n",
    "    lcd.clear()\n",
    "    print('Done')\n"
   ]
  },
  {
   "cell_type": "code",
   "execution_count": null,
   "id": "bdfde180",
   "metadata": {},
   "outputs": [],
   "source": []
  }
 ],
 "metadata": {
  "kernelspec": {
   "display_name": "Python 3",
   "language": "python",
   "name": "python3"
  },
  "language_info": {
   "codemirror_mode": {
    "name": "ipython",
    "version": 3
   },
   "file_extension": ".py",
   "mimetype": "text/x-python",
   "name": "python",
   "nbconvert_exporter": "python",
   "pygments_lexer": "ipython3",
   "version": "3.7.3"
  }
 },
 "nbformat": 4,
 "nbformat_minor": 5
}

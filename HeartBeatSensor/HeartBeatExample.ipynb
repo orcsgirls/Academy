{
 "cells": [
  {
   "cell_type": "code",
   "execution_count": 1,
   "id": "d094ee64",
   "metadata": {},
   "outputs": [],
   "source": [
    "import sys\n",
    "import os\n",
    "import time\n",
    "import RPi.GPIO as GPIO\n",
    "from IPython.display import clear_output\n",
    "from DFRobot_BloodOxygen_S import *\n",
    "from datetime import datetime\n",
    "\n",
    "I2C_1       = 0x01      \n",
    "I2C_ADDRESS = 0x57\n",
    "\n",
    "max30102 = DFRobot_BloodOxygen_S_i2c(I2C_1,I2C_ADDRESS)"
   ]
  },
  {
   "cell_type": "code",
   "execution_count": 7,
   "id": "fe475e33",
   "metadata": {},
   "outputs": [],
   "source": [
    "# Setup\n",
    "while (False == max30102.begin()):\n",
    "    print(\"init fail!\")\n",
    "    time.sleep(1)"
   ]
  },
  {
   "cell_type": "code",
   "execution_count": 8,
   "id": "73ac83d0",
   "metadata": {},
   "outputs": [
    {
     "name": "stdout",
     "output_type": "stream",
     "text": [
      "--------------------------------------------\n",
      "SPO2       : -1 %\n",
      "Heart rate : -1 beats/min\n",
      "Temperature: 35.35 C\n",
      "Time       : 23:47:10\n",
      "--------------------------------------------\n",
      "Done\n"
     ]
    }
   ],
   "source": [
    "max30102.sensor_start_collect()\n",
    "time.sleep(1)\n",
    "\n",
    "# Main loop\n",
    "try:\n",
    "    while True:  \n",
    "        max30102.get_heartbeat_SPO2()\n",
    "        clear_output(wait=True)\n",
    "        print(f\"--------------------------------------------\")\n",
    "        print(f\"SPO2       : {max30102.SPO2} %\")\n",
    "        print(f\"Heart rate : {max30102.heartbeat} beats/min\")\n",
    "        print(f\"Temperature: {max30102.get_temperature_c()} C\")\n",
    "        now = datetime.now()\n",
    "        print(f\"Time       : {now.strftime('%H:%M:%S')}\")\n",
    "        print(f\"--------------------------------------------\")\n",
    "        time.sleep(1)\n",
    "        \n",
    "except KeyboardInterrupt:\n",
    "    max30102.sensor_end_collect()\n",
    "    print('Done')\n"
   ]
  },
  {
   "cell_type": "code",
   "execution_count": null,
   "id": "cfe0feb1",
   "metadata": {},
   "outputs": [],
   "source": []
  }
 ],
 "metadata": {
  "kernelspec": {
   "display_name": "Python 3",
   "language": "python",
   "name": "python3"
  },
  "language_info": {
   "codemirror_mode": {
    "name": "ipython",
    "version": 3
   },
   "file_extension": ".py",
   "mimetype": "text/x-python",
   "name": "python",
   "nbconvert_exporter": "python",
   "pygments_lexer": "ipython3",
   "version": "3.7.3"
  }
 },
 "nbformat": 4,
 "nbformat_minor": 5
}

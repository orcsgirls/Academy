{
 "cells": [
  {
   "cell_type": "markdown",
   "id": "5e90696e",
   "metadata": {},
   "source": [
    "# Speaking Environment Monitor\n",
    "\n",
    "This is a simple example of monitoring and use the AIY Voice Box button colors and to announce values / alarms. Note that the `VoiceBoxAPI.py` needs to be running on the Voice Box and both need to be connected to the same WiFi network."
   ]
  },
  {
   "cell_type": "code",
   "execution_count": 5,
   "id": "e6a74354",
   "metadata": {},
   "outputs": [],
   "source": [
    "import requests\n",
    "import time\n",
    "from datetime import datetime\n",
    "from urllib.parse import quote\n",
    "from IPython.display import clear_output, display, update_display\n",
    "from bme280 import BME280\n",
    "\n",
    "bme280 = BME280()\n",
    "\n",
    "VOICE_URL = \"http://orcspi-voice-develop.local:5000\"  # Note https does not work the way we are set up"
   ]
  },
  {
   "cell_type": "markdown",
   "id": "6c3f7dd0",
   "metadata": {},
   "source": [
    "#### Measuring loop"
   ]
  },
  {
   "cell_type": "code",
   "execution_count": 9,
   "id": "50d4fd19",
   "metadata": {},
   "outputs": [
    {
     "name": "stdout",
     "output_type": "stream",
     "text": [
      "T1: 27.3 C - Humidity: 25.9 % - Pressure: 985 hPa\n",
      "Loop terminated by user.\n"
     ]
    }
   ],
   "source": [
    "start_time   = time.time()\n",
    "current_time = start_time\n",
    "\n",
    "update_screen = 2.0\n",
    "update_voice  = 10.0\n",
    "\n",
    "running = True\n",
    "while running:\n",
    "    try:        \n",
    "        p  = bme280.get_pressure()\n",
    "        t  = bme280.get_temperature()\n",
    "        h  = bme280.get_humidity()\n",
    "        \n",
    "        current_time = time.time()\n",
    "\n",
    "        clear_output(wait=True)          \n",
    "        print (f\"T1: {t:.1f} C - Humidity: {h:.1f} % - Pressure: {p:.0f} hPa\")\n",
    "\n",
    "        # Only announce temperature if elapsed time is multiple of upodate_voice\n",
    "        \n",
    "        if ((int (current_time - start_time) % update_voice) == 0):\n",
    "            value = quote(f\"Current temperature {t:.1f} C\")\n",
    "            response = requests.get(VOICE_URL+'/say?value='+value)\n",
    "            print(response.json())\n",
    "        \n",
    "        time.sleep(update_screen)\n",
    "        \n",
    "    except IOError:\n",
    "        pass\n",
    "    except KeyboardInterrupt:\n",
    "        print (\"Loop terminated by user.\")\n",
    "        running = False\n"
   ]
  },
  {
   "cell_type": "code",
   "execution_count": null,
   "id": "dd4dc368",
   "metadata": {},
   "outputs": [],
   "source": []
  }
 ],
 "metadata": {
  "kernelspec": {
   "display_name": "Python 3 (ipykernel)",
   "language": "python",
   "name": "python3"
  },
  "language_info": {
   "codemirror_mode": {
    "name": "ipython",
    "version": 3
   },
   "file_extension": ".py",
   "mimetype": "text/x-python",
   "name": "python",
   "nbconvert_exporter": "python",
   "pygments_lexer": "ipython3",
   "version": "3.7.3"
  }
 },
 "nbformat": 4,
 "nbformat_minor": 5
}

{
 "cells": [
  {
   "cell_type": "markdown",
   "id": "0a8b615d",
   "metadata": {},
   "source": [
    "#### Usage Demo\n",
    "\n",
    "Now that we have an API allowing us to remote control the AIY Voice Box, we want to call it from another device, e.g. the EnviroPi to send alerts or have the Voice Box call out the temperature. Here is just a simple example how to use the API from a Python script."
   ]
  },
  {
   "cell_type": "code",
   "execution_count": null,
   "id": "9149974e",
   "metadata": {},
   "outputs": [],
   "source": [
    "import requests\n",
    "import time"
   ]
  },
  {
   "cell_type": "markdown",
   "id": "a8e1a6c6",
   "metadata": {},
   "source": [
    "This needs to be the link to your AIY voice box. If the .local address does not work, use the IP address."
   ]
  },
  {
   "cell_type": "code",
   "execution_count": null,
   "id": "2ebfa443",
   "metadata": {},
   "outputs": [],
   "source": [
    "VOICE_URL = \"http://orcspi-voice.local:5000\"  # Note https does not work the way we are set up"
   ]
  },
  {
   "cell_type": "code",
   "execution_count": null,
   "id": "8eb337e3",
   "metadata": {},
   "outputs": [],
   "source": [
    "response = requests.get(VOICE_URL+'/led?value=green')\n",
    "print(response.json())"
   ]
  },
  {
   "cell_type": "markdown",
   "id": "c2c36c5e",
   "metadata": {},
   "source": [
    "Ok, let's blink 🙂"
   ]
  },
  {
   "cell_type": "code",
   "execution_count": null,
   "id": "47cda93f",
   "metadata": {},
   "outputs": [],
   "source": [
    "for i in range(10):\n",
    "    response = requests.get(VOICE_URL+'/led?value=green')\n",
    "    time.sleep(1)\n",
    "    response = requests.get(VOICE_URL+'/led?value=off')\n",
    "    time.sleep(1)"
   ]
  },
  {
   "cell_type": "markdown",
   "id": "b028db71",
   "metadata": {},
   "source": [
    "Next talking. Note the string needs to be htmlified :)"
   ]
  },
  {
   "cell_type": "code",
   "execution_count": null,
   "id": "b6c346fc",
   "metadata": {},
   "outputs": [],
   "source": [
    "from urllib.parse import quote"
   ]
  },
  {
   "cell_type": "code",
   "execution_count": null,
   "id": "b253b1c6",
   "metadata": {},
   "outputs": [],
   "source": [
    "text = \"ORCSGirls are the best\"\n",
    "value = quote(text)\n",
    "print(value)"
   ]
  },
  {
   "cell_type": "code",
   "execution_count": null,
   "id": "c429e4d8",
   "metadata": {},
   "outputs": [],
   "source": [
    "response = requests.get(VOICE_URL+'/say?value='+value)\n",
    "print(response.json())"
   ]
  },
  {
   "cell_type": "code",
   "execution_count": null,
   "id": "68990bcf",
   "metadata": {},
   "outputs": [],
   "source": []
  }
 ],
 "metadata": {
  "kernelspec": {
   "display_name": "Python 3",
   "language": "python",
   "name": "python3"
  },
  "language_info": {
   "codemirror_mode": {
    "name": "ipython",
    "version": 3
   },
   "file_extension": ".py",
   "mimetype": "text/x-python",
   "name": "python",
   "nbconvert_exporter": "python",
   "pygments_lexer": "ipython3",
   "version": "3.7.3"
  }
 },
 "nbformat": 4,
 "nbformat_minor": 5
}

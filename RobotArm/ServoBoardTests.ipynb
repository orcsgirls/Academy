{
 "cells": [
  {
   "cell_type": "markdown",
   "id": "4a24e627",
   "metadata": {},
   "source": [
    "### Adafruit PCA9685 16-Channel Servo Tests\n",
    "\n",
    "Checking out the servo comtrol board. You need to install the needed libraries using these commands in a terminal\n",
    "\n",
    "```\n",
    "sudo pip3 install adafruit-circuitpython-pca9685\n",
    "sudo pip3 install adafruit-circuitpython-servokit\n",
    "```\n",
    "\n"
   ]
  },
  {
   "cell_type": "code",
   "execution_count": 1,
   "id": "06c04244",
   "metadata": {},
   "outputs": [],
   "source": [
    "import time\n",
    "import board\n",
    "import busio\n",
    "import adafruit_pca9685\n",
    "from adafruit_servokit import ServoKit\n",
    "\n",
    "i2c = busio.I2C(board.SCL, board.SDA)\n",
    "pca = adafruit_pca9685.PCA9685(i2c)\n",
    "kit = ServoKit(channels=16)"
   ]
  },
  {
   "cell_type": "code",
   "execution_count": 2,
   "id": "6518088c",
   "metadata": {},
   "outputs": [],
   "source": [
    "# Connected servos\n",
    "servos=[0,1,2,3,4,5]"
   ]
  },
  {
   "cell_type": "code",
   "execution_count": 20,
   "id": "95bf04a9",
   "metadata": {},
   "outputs": [
    {
     "name": "stdout",
     "output_type": "stream",
     "text": [
      "Servo 0: 89.81699877999186\n",
      "Servo 1: 89.81699877999186\n",
      "Servo 2: 84.54656364375762\n",
      "Servo 3: 84.54656364375762\n",
      "Servo 4: 89.81699877999186\n",
      "Servo 5: 89.81699877999186\n"
     ]
    }
   ],
   "source": [
    "# Read all angles\n",
    "for i in servos:\n",
    "    print(f\"Servo {i}: {kit.servo[i].angle}\")"
   ]
  },
  {
   "cell_type": "markdown",
   "id": "ba4d55b6",
   "metadata": {},
   "source": [
    "The same way we read the angles,we can move the servo to the needed angle (0 to 180)"
   ]
  },
  {
   "cell_type": "code",
   "execution_count": 27,
   "id": "d978874b",
   "metadata": {},
   "outputs": [],
   "source": [
    "kit.servo[0].angle=85"
   ]
  },
  {
   "cell_type": "markdown",
   "id": "9e9b7053",
   "metadata": {},
   "source": [
    "The issue is the servo always moves at full speed because the PWM signal just tells it the position to go to. This would make for a very jerky arm. One was around is to move in one degree intervals and that wait, move the next degree, wait and so on until we are at the final value.\n",
    "\n",
    "Lets make a function. `channel` is the channel the servo is connected to, `angle` is the angle to move to and `speed` is the speed in degrees per second. E.g. moving from 0 to 90 degrees at 45 degrees per second would take two seconds. "
   ]
  },
  {
   "cell_type": "code",
   "execution_count": 79,
   "id": "24df886e",
   "metadata": {},
   "outputs": [],
   "source": [
    "def moveTo(channel,angle,speed):\n",
    "    \n",
    "    start  = kit.servo[channel].angle    \n",
    "    points = abs(round(angle-start))\n",
    "    if (points>0):\n",
    "        delta  = (angle-start)/points\n",
    "        for p in range(points):\n",
    "            start=start+delta\n",
    "            kit.servo[channel].angle = start\n",
    "            time.sleep(1.0/speed)\n",
    "    \n",
    "    kit.servo[channel].angle = angle\n",
    "    #print (f\"Final angle: { kit.servo[channel].angle}\")"
   ]
  },
  {
   "cell_type": "code",
   "execution_count": 60,
   "id": "03ade410",
   "metadata": {},
   "outputs": [
    {
     "name": "stdout",
     "output_type": "stream",
     "text": [
      "Final angle: 107.9707198047987\n"
     ]
    }
   ],
   "source": [
    "moveTo(2,108.1,45)"
   ]
  },
  {
   "cell_type": "markdown",
   "id": "12d02806",
   "metadata": {},
   "source": [
    "### Arm Controller"
   ]
  },
  {
   "cell_type": "code",
   "execution_count": 89,
   "id": "bcb3b3d0",
   "metadata": {},
   "outputs": [],
   "source": [
    "import ipywidgets.widgets as widgets"
   ]
  },
  {
   "cell_type": "code",
   "execution_count": 166,
   "id": "4078a320",
   "metadata": {},
   "outputs": [],
   "source": [
    "class joint:\n",
    "    # init method or constructor\n",
    "    def __init__(self, name, servo_id, home=90, max_value=180, min_value=0, speed=30):\n",
    "         \n",
    "        # Instance Variable\n",
    "        self.name = name\n",
    "        self.servo_id = servo_id\n",
    "        self.max_value = max_value\n",
    "        self.min_value = min_value\n",
    "        self.speed = speed\n",
    "        self.home = home\n",
    "\n",
    "joints = [joint(\"rotation\", 5),\n",
    "          joint(\"lower arm\", 2),\n",
    "          joint(\"upper arm\", 4),\n",
    "          joint(\"wrist rotation\", 1),\n",
    "          joint(\"wrist tilt\", 0),\n",
    "          joint(\"gripper\", 3)]"
   ]
  },
  {
   "cell_type": "code",
   "execution_count": 169,
   "id": "cdbf0ce3",
   "metadata": {},
   "outputs": [],
   "source": [
    "def arm_home():\n",
    "    for joint in joints:\n",
    "        moveTo(joint.servo_id,joint.home,joint.speed)"
   ]
  },
  {
   "cell_type": "code",
   "execution_count": 215,
   "id": "a0ab235b",
   "metadata": {},
   "outputs": [],
   "source": [
    "# Array to save points (in joints order)\n",
    "stored_points=[]"
   ]
  },
  {
   "cell_type": "markdown",
   "id": "5dfa3ef9",
   "metadata": {},
   "source": [
    "Callback from UI."
   ]
  },
  {
   "cell_type": "code",
   "execution_count": 167,
   "id": "6d488fce",
   "metadata": {},
   "outputs": [],
   "source": [
    "def handle_slider_change(change):\n",
    "    for joint in joints:\n",
    "        if(joint.name == change.owner.description):\n",
    "            moveTo(joint.servo_id,change.new,joint.speed)"
   ]
  },
  {
   "cell_type": "code",
   "execution_count": 177,
   "id": "b1fa1eb8",
   "metadata": {},
   "outputs": [],
   "source": [
    "def home_button_pressed(button):\n",
    "    arm_home()\n",
    "    update_sliders()"
   ]
  },
  {
   "cell_type": "code",
   "execution_count": 223,
   "id": "948b75c9",
   "metadata": {},
   "outputs": [],
   "source": [
    "def save_button_pressed(button):\n",
    "    point = [kit.servo[j.servo_id].angle for j in joints]\n",
    "    stored_points.append(point)\n",
    "    message.value = f\"Stored points: {len(stored_points)}\""
   ]
  },
  {
   "cell_type": "code",
   "execution_count": 234,
   "id": "d1fc3f91",
   "metadata": {},
   "outputs": [],
   "source": [
    "def reset_button_pressed(button):\n",
    "    stored_points.clear()\n",
    "    message.value = f\"Stored points: {len(stored_points)}\""
   ]
  },
  {
   "cell_type": "code",
   "execution_count": 284,
   "id": "503f5a90",
   "metadata": {},
   "outputs": [],
   "source": [
    "def play_button_pressed(button):\n",
    "    for angles in stored_points:\n",
    "        for i,joint in enumerate(joints):\n",
    "            if(abs(kit.servo[joint.servo_id].angle - angles[i]) > 0.1):\n",
    "                moveTo(joint.servo_id,angles[i],joint.speed)\n",
    "                message.value = f\"Moving to point {i}\"\n",
    "                time.sleep(0.5)\n",
    "                \n",
    "    message.value = f\"Done\""
   ]
  },
  {
   "cell_type": "code",
   "execution_count": 285,
   "id": "93979e76",
   "metadata": {},
   "outputs": [],
   "source": [
    "def update_sliders():\n",
    "    for i, joint in enumerate(joints):\n",
    "        sliders[i].value = kit.servo[joint.servo_id].angle"
   ]
  },
  {
   "cell_type": "code",
   "execution_count": 286,
   "id": "e8d57d37",
   "metadata": {},
   "outputs": [],
   "source": [
    "sliders=[]\n",
    "for joint in joints:\n",
    "    sliders.append(widgets.FloatSlider(value=kit.servo[joint.servo_id].angle, \n",
    "                                       min=joint.min_value, max=joint.max_value, step=1, description=joint.name,\n",
    "                                       disabled=False, continuous_update=False, orientation='horizontal',\n",
    "                                       readout=True, readout_format='.1f',layout=widgets.Layout(width='90%', height='50px')))\n",
    "    sliders[-1].observe(handle_slider_change, names='value')"
   ]
  },
  {
   "cell_type": "code",
   "execution_count": 290,
   "id": "2a7b85ca",
   "metadata": {},
   "outputs": [],
   "source": [
    "home_button = widgets.Button(description='Home', button_style='danger', layout=widgets.Layout(width='80%', height='40px'))\n",
    "home_button.on_click(home_button_pressed)\n",
    "save_button = widgets.Button(description='Save', button_style='success', layout=widgets.Layout(width='80%', height='40px'))\n",
    "save_button.on_click(save_button_pressed)\n",
    "reset_button = widgets.Button(description='Reset', button_style='warning', layout=widgets.Layout(width='80%', height='40px'))\n",
    "reset_button.on_click(reset_button_pressed)\n",
    "play_button = widgets.Button(description='Play', button_style='danger', layout=widgets.Layout(width='80%', height='40px'))\n",
    "play_button.on_click(play_button_pressed)\n",
    "message = widgets.Label(value=\"-\", layout=widgets.Layout(align_self='center'))\n",
    "message.value = f\"Stored points: {len(stored_points)}\""
   ]
  },
  {
   "cell_type": "code",
   "execution_count": 291,
   "id": "9b5c90de",
   "metadata": {},
   "outputs": [
    {
     "data": {
      "application/vnd.jupyter.widget-view+json": {
       "model_id": "ac239a69e76f46ef8bc7be77ef636986",
       "version_major": 2,
       "version_minor": 0
      },
      "text/plain": [
       "HBox(children=(VBox(children=(FloatSlider(value=101.5290768605124, continuous_update=False, description='rotat…"
      ]
     },
     "metadata": {},
     "output_type": "display_data"
    }
   ],
   "source": [
    "panel_sliders = widgets.VBox(sliders, layout=widgets.Layout(width='80%'))\n",
    "panel_buttons = widgets.VBox([home_button, save_button, reset_button, play_button, message],layout=widgets.Layout(width='15%'))\n",
    "display(widgets.HBox([panel_sliders,panel_buttons]))"
   ]
  },
  {
   "cell_type": "code",
   "execution_count": null,
   "id": "3785caa5",
   "metadata": {},
   "outputs": [],
   "source": []
  }
 ],
 "metadata": {
  "kernelspec": {
   "display_name": "Python 3",
   "language": "python",
   "name": "python3"
  },
  "language_info": {
   "codemirror_mode": {
    "name": "ipython",
    "version": 3
   },
   "file_extension": ".py",
   "mimetype": "text/x-python",
   "name": "python",
   "nbconvert_exporter": "python",
   "pygments_lexer": "ipython3",
   "version": "3.7.3"
  }
 },
 "nbformat": 4,
 "nbformat_minor": 5
}

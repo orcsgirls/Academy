{
 "cells": [
  {
   "cell_type": "markdown",
   "id": "4a24e627",
   "metadata": {},
   "source": [
    "### Adafruit PCA9685 16-Channel Servo Tests\n",
    "\n",
    "Checking out the servo comtrol board. You need to install the needed libraries using these commands in a terminal\n",
    "\n",
    "```\n",
    "sudo pip3 install adafruit-circuitpython-pca9685\n",
    "sudo pip3 install adafruit-circuitpython-servokit\n",
    "```\n",
    "\n"
   ]
  },
  {
   "cell_type": "code",
   "execution_count": 1,
   "id": "06c04244",
   "metadata": {},
   "outputs": [],
   "source": [
    "import time\n",
    "import board\n",
    "import busio\n",
    "import adafruit_pca9685\n",
    "from adafruit_servokit import ServoKit\n",
    "\n",
    "i2c = busio.I2C(board.SCL, board.SDA)\n",
    "pca = adafruit_pca9685.PCA9685(i2c)\n",
    "kit = ServoKit(channels=16)"
   ]
  },
  {
   "cell_type": "code",
   "execution_count": 12,
   "id": "427834c2",
   "metadata": {},
   "outputs": [
    {
     "name": "stdout",
     "output_type": "stream",
     "text": [
      "79.86173241154941\n"
     ]
    }
   ],
   "source": [
    "print(kit.servo[1].angle)"
   ]
  },
  {
   "cell_type": "code",
   "execution_count": 17,
   "id": "5df95599",
   "metadata": {},
   "outputs": [],
   "source": [
    "kit.servo[4].angle=120"
   ]
  },
  {
   "cell_type": "code",
   "execution_count": 19,
   "id": "c3a26915",
   "metadata": {},
   "outputs": [],
   "source": [
    "def home():\n",
    "    servos=[0,1,2,3,4]\n",
    "    for s in servos:\n",
    "        kit.servo[s].angle=90"
   ]
  },
  {
   "cell_type": "code",
   "execution_count": 20,
   "id": "2c986cda",
   "metadata": {},
   "outputs": [],
   "source": [
    "home()"
   ]
  },
  {
   "cell_type": "code",
   "execution_count": null,
   "id": "10bf142c",
   "metadata": {},
   "outputs": [],
   "source": []
  },
  {
   "cell_type": "code",
   "execution_count": null,
   "id": "867f747c",
   "metadata": {},
   "outputs": [],
   "source": []
  },
  {
   "cell_type": "code",
   "execution_count": null,
   "id": "6bae2660",
   "metadata": {},
   "outputs": [],
   "source": []
  },
  {
   "cell_type": "code",
   "execution_count": 2,
   "id": "6518088c",
   "metadata": {},
   "outputs": [],
   "source": [
    "# Connected servos\n",
    "servos=[0,1,2,3,4]"
   ]
  },
  {
   "cell_type": "code",
   "execution_count": 20,
   "id": "95bf04a9",
   "metadata": {},
   "outputs": [
    {
     "name": "stdout",
     "output_type": "stream",
     "text": [
      "Servo 0: 89.81699877999186\n",
      "Servo 1: 89.81699877999186\n",
      "Servo 2: 84.54656364375762\n",
      "Servo 3: 84.54656364375762\n",
      "Servo 4: 89.81699877999186\n",
      "Servo 5: 89.81699877999186\n"
     ]
    }
   ],
   "source": [
    "# Read all angles\n",
    "for i in servos:\n",
    "    print(f\"Servo {i}: {kit.servo[i].angle}\")"
   ]
  },
  {
   "cell_type": "markdown",
   "id": "ba4d55b6",
   "metadata": {},
   "source": [
    "The same way we read the angles,we can move the servo to the needed angle (0 to 180)"
   ]
  },
  {
   "cell_type": "code",
   "execution_count": 24,
   "id": "ee4ab22a",
   "metadata": {},
   "outputs": [],
   "source": [
    "kit.servo[0].angle=90"
   ]
  },
  {
   "cell_type": "markdown",
   "id": "9e9b7053",
   "metadata": {},
   "source": [
    "The issue is the servo always moves at full speed because the PWM signal just tells it the position to go to. This would make for a very jerky arm. One was around is to move in one degree intervals and that wait, move the next degree, wait and so on until we are at the final value.\n",
    "\n",
    "Lets make a function. `channel` is the channel the servo is connected to, `angle` is the angle to move to and `speed` is the speed in degrees per second. E.g. moving from 0 to 90 degrees at 45 degrees per second would take two seconds. "
   ]
  },
  {
   "cell_type": "code",
   "execution_count": 21,
   "id": "24df886e",
   "metadata": {},
   "outputs": [],
   "source": [
    "def moveTo(channel,angle,speed):\n",
    "    \n",
    "    start  = kit.servo[channel].angle    \n",
    "    points = abs(round(angle-start))\n",
    "    if (points>0):\n",
    "        delta  = (angle-start)/points\n",
    "        for p in range(points):\n",
    "            start=start+delta\n",
    "            kit.servo[channel].angle = start\n",
    "            time.sleep(1.0/speed)\n",
    "    \n",
    "    kit.servo[channel].angle = angle\n",
    "    print (f\"Final angle: { kit.servo[channel].angle}\")"
   ]
  },
  {
   "cell_type": "code",
   "execution_count": 60,
   "id": "03ade410",
   "metadata": {},
   "outputs": [
    {
     "name": "stdout",
     "output_type": "stream",
     "text": [
      "Final angle: 107.9707198047987\n"
     ]
    }
   ],
   "source": [
    "moveTo(2,108.1,45)"
   ]
  },
  {
   "cell_type": "code",
   "execution_count": 26,
   "id": "3785caa5",
   "metadata": {},
   "outputs": [
    {
     "name": "stdout",
     "output_type": "stream",
     "text": [
      "Final angle: 89.81699877999186\n"
     ]
    }
   ],
   "source": [
    "moveTo(2,90,1)"
   ]
  },
  {
   "cell_type": "code",
   "execution_count": 32,
   "id": "b57dcf59",
   "metadata": {},
   "outputs": [],
   "source": [
    "home=[90,90,90,90,90]\n",
    "block=[100,70,80,90,85]\n",
    "\n",
    "\n",
    "def goto(pos):\n",
    "    for i in range(5):\n",
    "        moveTo(i,pos[i],10)"
   ]
  },
  {
   "cell_type": "code",
   "execution_count": 46,
   "id": "63360f8e",
   "metadata": {},
   "outputs": [
    {
     "name": "stdout",
     "output_type": "stream",
     "text": [
      "Final angle: 99.77226514843431\n",
      "Final angle: 69.90646604310695\n",
      "Final angle: 79.86173241154941\n",
      "Final angle: 89.81699877999186\n",
      "Final angle: 84.54656364375762\n"
     ]
    }
   ],
   "source": [
    "goto(block)"
   ]
  },
  {
   "cell_type": "code",
   "execution_count": 38,
   "id": "7b08298e",
   "metadata": {},
   "outputs": [
    {
     "name": "stdout",
     "output_type": "stream",
     "text": [
      "Servo 0: 99.77226514843431\n",
      "Servo 1: 69.90646604310695\n",
      "Servo 2: 79.86173241154941\n",
      "Servo 3: 89.81699877999186\n",
      "Servo 4: 84.54656364375762\n"
     ]
    }
   ],
   "source": [
    "servos=[0,1,2,3,4]\n",
    "for i in servos:\n",
    "    print(f\"Servo {i}: {kit.servo[i].angle}\")"
   ]
  },
  {
   "cell_type": "code",
   "execution_count": 39,
   "id": "2f6146bd",
   "metadata": {},
   "outputs": [],
   "source": [
    "position=[]"
   ]
  },
  {
   "cell_type": "code",
   "execution_count": 47,
   "id": "6bde1511",
   "metadata": {},
   "outputs": [],
   "source": [
    "position.append([kit.servo[i].angle for i in range (5)])"
   ]
  },
  {
   "cell_type": "code",
   "execution_count": 48,
   "id": "a466ac2e",
   "metadata": {},
   "outputs": [
    {
     "name": "stdout",
     "output_type": "stream",
     "text": [
      "[[99.77226514843431, 69.90646604310695, 79.86173241154941, 89.81699877999186, 84.54656364375762], [89.81699877999186, 89.81699877999186, 89.81699877999186, 89.81699877999186, 89.81699877999186], [99.77226514843431, 69.90646604310695, 79.86173241154941, 89.81699877999186, 84.54656364375762]]\n"
     ]
    }
   ],
   "source": [
    "print(position)"
   ]
  },
  {
   "cell_type": "code",
   "execution_count": 50,
   "id": "a4008a42",
   "metadata": {},
   "outputs": [
    {
     "name": "stdout",
     "output_type": "stream",
     "text": [
      "[99.77226514843431, 69.90646604310695, 79.86173241154941, 89.81699877999186, 84.54656364375762]\n",
      "[89.81699877999186, 89.81699877999186, 89.81699877999186, 89.81699877999186, 89.81699877999186]\n",
      "[99.77226514843431, 69.90646604310695, 79.86173241154941, 89.81699877999186, 84.54656364375762]\n"
     ]
    }
   ],
   "source": [
    "for p in position:\n",
    "    print(p)"
   ]
  },
  {
   "cell_type": "code",
   "execution_count": 52,
   "id": "ff3a2153",
   "metadata": {},
   "outputs": [
    {
     "name": "stdout",
     "output_type": "stream",
     "text": [
      "Final angle: 99.77226514843431\n",
      "Final angle: 69.90646604310695\n",
      "Final angle: 79.86173241154941\n",
      "Final angle: 89.81699877999186\n",
      "Final angle: 84.54656364375762\n",
      "Final angle: 89.81699877999186\n",
      "Final angle: 89.81699877999186\n",
      "Final angle: 89.81699877999186\n",
      "Final angle: 89.81699877999186\n",
      "Final angle: 89.81699877999186\n",
      "Final angle: 99.77226514843431\n",
      "Final angle: 69.90646604310695\n",
      "Final angle: 79.86173241154941\n",
      "Final angle: 89.81699877999186\n",
      "Final angle: 84.54656364375762\n"
     ]
    }
   ],
   "source": [
    "for p in position:\n",
    "    for i in range(5):\n",
    "        moveTo(i,p[i],40)\n",
    "    time.sleep(1)"
   ]
  },
  {
   "cell_type": "code",
   "execution_count": null,
   "id": "82b7096e",
   "metadata": {},
   "outputs": [],
   "source": []
  }
 ],
 "metadata": {
  "kernelspec": {
   "display_name": "Python 3",
   "language": "python",
   "name": "python3"
  },
  "language_info": {
   "codemirror_mode": {
    "name": "ipython",
    "version": 3
   },
   "file_extension": ".py",
   "mimetype": "text/x-python",
   "name": "python",
   "nbconvert_exporter": "python",
   "pygments_lexer": "ipython3",
   "version": "3.7.3"
  }
 },
 "nbformat": 4,
 "nbformat_minor": 5
}

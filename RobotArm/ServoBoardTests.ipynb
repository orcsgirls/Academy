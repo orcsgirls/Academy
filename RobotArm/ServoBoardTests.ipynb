{
 "cells": [
  {
   "cell_type": "markdown",
   "id": "4a24e627",
   "metadata": {},
   "source": [
    "### Adafruit PCA9685 16-Channel Servo Tests\n",
    "\n",
    "Checking out the servo comtrol board. You need to install the needed libraries using these commands in a terminal\n",
    "\n",
    "```\n",
    "sudo pip3 install adafruit-circuitpython-pca9685\n",
    "sudo pip3 install adafruit-circuitpython-servokit\n",
    "```\n",
    "\n"
   ]
  },
  {
   "cell_type": "code",
   "execution_count": 27,
   "id": "06c04244",
   "metadata": {},
   "outputs": [],
   "source": [
    "import time\n",
    "import board\n",
    "import busio\n",
    "import adafruit_pca9685\n",
    "from adafruit_servokit import ServoKit\n",
    "\n",
    "i2c = busio.I2C(board.SCL, board.SDA)\n",
    "pca = adafruit_pca9685.PCA9685(i2c)\n",
    "kit = ServoKit(channels=16)"
   ]
  },
  {
   "cell_type": "code",
   "execution_count": 28,
   "id": "6518088c",
   "metadata": {},
   "outputs": [],
   "source": [
    "# Connected servos\n",
    "servos=[4,15]"
   ]
  },
  {
   "cell_type": "code",
   "execution_count": 29,
   "id": "95bf04a9",
   "metadata": {},
   "outputs": [
    {
     "name": "stdout",
     "output_type": "stream",
     "text": [
      "Servo 4: 180.0\n",
      "Servo 15: 180.0\n"
     ]
    }
   ],
   "source": [
    "# Read all angles\n",
    "for i in servos:\n",
    "    print(f\"Servo {i}: {kit.servo[i].angle}\")"
   ]
  },
  {
   "cell_type": "markdown",
   "id": "ba4d55b6",
   "metadata": {},
   "source": [
    "The same way we read the angles,we can move the servo to the needed angle (0 to 180)"
   ]
  },
  {
   "cell_type": "code",
   "execution_count": 62,
   "id": "d978874b",
   "metadata": {},
   "outputs": [],
   "source": [
    "kit.servo[15].angle =100 "
   ]
  },
  {
   "cell_type": "markdown",
   "id": "9e9b7053",
   "metadata": {},
   "source": [
    "The issue is the servo always moves at full speed because the PWM signal just tells it the position to go to. This would make for a very jerky arm. One was around is to move in one degree intervals and that wait, move the next degree, wait and so on until we are at the final value.\n",
    "\n",
    "Lets make a function. `channel` is the channel the servo is connected to, `angle` is the angle to move to and `speed` is the speed in degrees per second. E.g. moving from 0 to 90 degrees at 45 degrees per second would take two seconds. "
   ]
  },
  {
   "cell_type": "code",
   "execution_count": 63,
   "id": "24df886e",
   "metadata": {},
   "outputs": [],
   "source": [
    "def moveTo(channel,angle,speed):\n",
    "    \n",
    "    start  = kit.servo[channel].angle    \n",
    "    points = abs(round(angle-start))\n",
    "    if (points>0):\n",
    "        delta  = (angle-start)/points\n",
    "        for p in range(points):\n",
    "            start=start+delta\n",
    "            kit.servo[channel].angle = start\n",
    "            time.sleep(1.0/speed)\n",
    "    \n",
    "    kit.servo[channel].angle = angle\n",
    "    print (f\"Final angle: { kit.servo[channel].angle}\")"
   ]
  },
  {
   "cell_type": "code",
   "execution_count": 64,
   "id": "9a2b58e9",
   "metadata": {},
   "outputs": [
    {
     "name": "stdout",
     "output_type": "stream",
     "text": [
      "Final angle: 89.81699877999186\n"
     ]
    }
   ],
   "source": [
    "kit.servo[15].angle=0\n",
    "\n",
    "#moving to 90 at 45 deg/seconds\n",
    "moveTo(15,90,45)"
   ]
  },
  {
   "cell_type": "code",
   "execution_count": null,
   "id": "03ade410",
   "metadata": {},
   "outputs": [],
   "source": []
  }
 ],
 "metadata": {
  "kernelspec": {
   "display_name": "Python 3",
   "language": "python",
   "name": "python3"
  },
  "language_info": {
   "codemirror_mode": {
    "name": "ipython",
    "version": 3
   },
   "file_extension": ".py",
   "mimetype": "text/x-python",
   "name": "python",
   "nbconvert_exporter": "python",
   "pygments_lexer": "ipython3",
   "version": "3.7.3"
  }
 },
 "nbformat": 4,
 "nbformat_minor": 5
}

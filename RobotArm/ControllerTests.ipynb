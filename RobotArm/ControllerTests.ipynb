{
 "cells": [
  {
   "cell_type": "code",
   "execution_count": 1,
   "id": "2a83231c",
   "metadata": {},
   "outputs": [],
   "source": [
    "from gamepad import Gamepad"
   ]
  },
  {
   "cell_type": "code",
   "execution_count": 2,
   "id": "ea90d1bb",
   "metadata": {},
   "outputs": [
    {
     "name": "stdout",
     "output_type": "stream",
     "text": [
      "Gamepad connected\n"
     ]
    }
   ],
   "source": [
    "gamepad = Gamepad()\n",
    "print('Gamepad connected')"
   ]
  },
  {
   "cell_type": "markdown",
   "id": "8c59d9ed",
   "metadata": {},
   "source": [
    "Seems like 'connected' just means the dongle is found, but it will show connected even if the game controller itself is switched off. That also means if it shows connected, the USB adapter works fine (I think)."
   ]
  },
  {
   "cell_type": "code",
   "execution_count": null,
   "id": "ac93f2e1",
   "metadata": {},
   "outputs": [
    {
     "name": "stdout",
     "output_type": "stream",
     "text": [
      "('AXIS', 'RIGHT-Y', -0.4032105471968749)\n",
      "('AXIS', 'RIGHT-Y', -0.7510299996948149)\n",
      "('AXIS', 'RIGHT-Y', -1.0)\n",
      "('AXIS', 'RIGHT-Y', -0.4190191351054415)\n",
      "('AXIS', 'RIGHT-Y', 0.0)\n",
      "('BUTTON', 'A', True)\n",
      "('BUTTON', 'A', False)\n",
      "('BUTTON', 'Y', True)\n",
      "('BUTTON', 'Y', False)\n",
      "('BUTTON', 'B', True)\n",
      "('BUTTON', 'B', False)\n",
      "('AXIS', 'RIGHT-Y', -0.30832850123599964)\n",
      "('AXIS', 'RIGHT-Y', -0.869594409009064)\n",
      "('AXIS', 'RIGHT-Y', -1.0)\n",
      "('AXIS', 'RIGHT-Y', 0.0)\n",
      "('AXIS', 'RIGHT-Y', 0.5454268013550219)\n",
      "('AXIS', 'RIGHT-Y', 1.0)\n",
      "('AXIS', 'RIGHT-Y', 0.0)\n",
      "('AXIS', 'LEFT-X', -0.27671132541886656)\n",
      "('AXIS', 'LEFT-X', -0.9091158787804804)\n",
      "('AXIS', 'LEFT-X', -1.0)\n",
      "('AXIS', 'LEFT-X', 0.0)\n"
     ]
    }
   ],
   "source": [
    "while True:\n",
    "    # This will wait for the first gamepad event and then return events as they happen\n",
    "    event=gamepad.getNextEvent()\n",
    "    print(event)"
   ]
  },
  {
   "cell_type": "code",
   "execution_count": null,
   "id": "4387f093",
   "metadata": {},
   "outputs": [],
   "source": []
  }
 ],
 "metadata": {
  "kernelspec": {
   "display_name": "Python 3",
   "language": "python",
   "name": "python3"
  },
  "language_info": {
   "codemirror_mode": {
    "name": "ipython",
    "version": 3
   },
   "file_extension": ".py",
   "mimetype": "text/x-python",
   "name": "python",
   "nbconvert_exporter": "python",
   "pygments_lexer": "ipython3",
   "version": "3.7.3"
  }
 },
 "nbformat": 4,
 "nbformat_minor": 5
}

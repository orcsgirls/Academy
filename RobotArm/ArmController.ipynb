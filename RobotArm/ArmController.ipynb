{
 "cells": [
  {
   "cell_type": "markdown",
   "id": "4a24e627",
   "metadata": {},
   "source": [
    "### Adafruit PCA9685 16-Channel Servo Tests\n",
    "\n",
    "Checking out the servo comtrol board. You need to install the needed libraries using these commands in a terminal\n",
    "\n",
    "```\n",
    "sudo pip3 install adafruit-circuitpython-pca9685\n",
    "sudo pip3 install adafruit-circuitpython-servokit\n",
    "```\n",
    "\n"
   ]
  },
  {
   "cell_type": "code",
   "execution_count": 2,
   "id": "06c04244",
   "metadata": {},
   "outputs": [],
   "source": [
    "import time\n",
    "from gamepad import Gamepad\n",
    "from robotarm import Arm, Joint\n",
    "from IPython.display import clear_output"
   ]
  },
  {
   "cell_type": "markdown",
   "id": "133a80ce",
   "metadata": {},
   "source": [
    "## Robot arm configuration"
   ]
  },
  {
   "cell_type": "code",
   "execution_count": 3,
   "id": "cc69e1f5",
   "metadata": {},
   "outputs": [],
   "source": [
    "# This is the robot arm configuration\n",
    "\n",
    "config=[\n",
    "    {'name': 'Rotation',   'channel': 0, 'max_angle': 170, 'min_angle': 10, 'home_angle': 90},\n",
    "    {'name': 'Lower arm',  'channel': 1, 'max_angle': 140, 'min_angle': 45, 'home_angle': 90},\n",
    "    {'name': 'Upper arm',  'channel': 2, 'max_angle': 120, 'min_angle': 20, 'home_angle': 90},\n",
    "    {'name': 'Wrist tilt', 'channel': 3, 'max_angle': 175, 'min_angle': 50, 'home_angle': 90},\n",
    "    {'name': 'Gripper',    'channel': 4, 'max_angle': 170, 'min_angle':  5, 'home_angle': 90}\n",
    "]"
   ]
  },
  {
   "cell_type": "code",
   "execution_count": 4,
   "id": "c1f9dacf",
   "metadata": {},
   "outputs": [],
   "source": [
    "# Instanciate the arm object\n",
    "arm=Arm(config)"
   ]
  },
  {
   "cell_type": "markdown",
   "id": "cdb3032d",
   "metadata": {},
   "source": [
    "### Using GameContoller connected to Pi\n",
    "\n",
    "This needs the code from https://github.com/piborg/Gamepad and the controller dongle is plugged into the middle USB port of the Raspberry Pi."
   ]
  },
  {
   "cell_type": "code",
   "execution_count": 5,
   "id": "cf56921a",
   "metadata": {},
   "outputs": [],
   "source": [
    "def updateJoint(joint, axis, speed):\n",
    "    if(abs(gamepad.axis(axis)) > 0.1):\n",
    "        arm.joints[joint].jog(speed*gamepad.axis(axis))"
   ]
  },
  {
   "cell_type": "code",
   "execution_count": 6,
   "id": "54f19f18",
   "metadata": {},
   "outputs": [
    {
     "name": "stdout",
     "output_type": "stream",
     "text": [
      "Arm status\n",
      "  0 at position 89.8\n",
      "  1 at position 89.8\n",
      "  2 at position 89.8\n",
      "  3 at position 89.8\n",
      "  4 at position 89.8\n",
      "Saved positons - 1\n",
      "Disconnected\n"
     ]
    }
   ],
   "source": [
    "# Gamepad settings\n",
    "running = True\n",
    "\n",
    "gamepad = Gamepad()\n",
    "print('Gamepad connected')\n",
    "\n",
    "# Start the background updating\n",
    "gamepad.startBackgroundUpdates()\n",
    "\n",
    "# Handle joystick updates one at a time\n",
    "try:\n",
    "    start_time   = time.time()\n",
    "    current_time = start_time\n",
    "    \n",
    "    while running and gamepad.isConnected():\n",
    "        if gamepad.beenPressed('X'):         # 'X' exit control loop\n",
    "            running = False\n",
    "        if gamepad.beenPressed('B'):         # 'B' send arm to home position\n",
    "            arm.home()\n",
    "        if gamepad.beenPressed('A'):         # 'A' Save current location\n",
    "            arm.save_location()\n",
    "            print('Position saved')\n",
    "        if gamepad.beenPressed('Y'):         # 'Y' Print current angles on screen\n",
    "            clear_output(wait=True)\n",
    "            print(arm)\n",
    "            print(f\"Saved positons - {arm.stored_locations()}\")\n",
    "        if gamepad.beenPressed('START'):     # 'START' replay saved postitions\n",
    "            arm.run_locations()\n",
    "        if gamepad.beenPressed('SELECT'):    # 'SELECT' clear saved postitions\n",
    "            arm.clear_locations()\n",
    "            print('Positons cleared')\n",
    "            \n",
    "        # Update all positions\n",
    "        updateJoint(0, \"LEFT-X\", 1.5)        # Rotation\n",
    "        updateJoint(1, \"LEFT-Y\", 1.5)        # Lower arm\n",
    "        updateJoint(2, \"RIGHT-X\", 2.0)       # Upper arm\n",
    "        updateJoint(3, \"RIGHT-Y\", 2.0)       # Wrist tilt\n",
    "        updateJoint(4, \"DPAD-Y\", 2.0)        # Gripper\n",
    "\n",
    "        time.sleep(0.01)\n",
    "        \n",
    "except KeyboardInterrupt:\n",
    "    print ('Finished')\n",
    "finally:\n",
    "    gamepad.disconnect()\n",
    "    print ('Disconnected')"
   ]
  },
  {
   "cell_type": "code",
   "execution_count": null,
   "id": "d0a96661",
   "metadata": {},
   "outputs": [],
   "source": [
    "print(arm.locations)"
   ]
  },
  {
   "cell_type": "code",
   "execution_count": null,
   "id": "fcb8647c",
   "metadata": {},
   "outputs": [],
   "source": []
  }
 ],
 "metadata": {
  "kernelspec": {
   "display_name": "Python 3",
   "language": "python",
   "name": "python3"
  },
  "language_info": {
   "codemirror_mode": {
    "name": "ipython",
    "version": 3
   },
   "file_extension": ".py",
   "mimetype": "text/x-python",
   "name": "python",
   "nbconvert_exporter": "python",
   "pygments_lexer": "ipython3",
   "version": "3.7.3"
  }
 },
 "nbformat": 4,
 "nbformat_minor": 5
}

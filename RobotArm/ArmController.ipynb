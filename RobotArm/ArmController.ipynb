{
 "cells": [
  {
   "cell_type": "markdown",
   "id": "4a24e627",
   "metadata": {},
   "source": [
    "### Adafruit PCA9685 16-Channel Servo Tests\n",
    "\n",
    "Checking out the servo comtrol board. You need to install the needed libraries using these commands in a terminal\n",
    "\n",
    "```\n",
    "sudo pip3 install adafruit-circuitpython-pca9685\n",
    "sudo pip3 install adafruit-circuitpython-servokit\n",
    "```\n",
    "\n"
   ]
  },
  {
   "cell_type": "code",
   "execution_count": 164,
   "id": "06c04244",
   "metadata": {},
   "outputs": [],
   "source": [
    "import time\n",
    "import board\n",
    "import busio\n",
    "import adafruit_pca9685\n",
    "from adafruit_servokit import ServoKit\n",
    "import itertools"
   ]
  },
  {
   "cell_type": "markdown",
   "id": "12d02806",
   "metadata": {},
   "source": [
    "### Arm Controller Class\n",
    "\n",
    "Simple class to control the arm."
   ]
  },
  {
   "cell_type": "code",
   "execution_count": 234,
   "id": "4078a320",
   "metadata": {},
   "outputs": [],
   "source": [
    "class Joint:\n",
    "    # init method or constructor\n",
    "    def __init__(self, name, servo, home_position=90, max_value=180, min_value=0, speed=30):\n",
    "         \n",
    "        self.name = name\n",
    "        self.servo = servo\n",
    "        self.max_value = max_value\n",
    "        self.min_value = min_value\n",
    "        self.speed = speed\n",
    "        self.home_position = home_position\n",
    "        \n",
    "        # Homing\n",
    "        self.servo.angle = self.home_position\n",
    "\n",
    "    # Output on print\n",
    "    def __str__(self):\n",
    "        return f\"{self.name} at position {self.servo.angle:.1f}\"\n",
    "        \n",
    "    # Move to angle at speed\n",
    "    def move_to(self, angle):\n",
    "    \n",
    "        start  = self.servo.angle    \n",
    "        points = abs(round(angle-start))\n",
    "        if (points>0):\n",
    "            delta  = (angle-start)/points\n",
    "            for p in range(points):\n",
    "                start=start+delta\n",
    "                self.servo.angle = start\n",
    "                time.sleep(1.0/self.speed)\n",
    "\n",
    "        self.servo.angle = angle\n",
    "        \n",
    "    # Go home\n",
    "    def home(self):\n",
    "        self.move_to(self.home_position)\n",
    "        "
   ]
  },
  {
   "cell_type": "code",
   "execution_count": 235,
   "id": "e5ea28ff",
   "metadata": {},
   "outputs": [],
   "source": [
    "class Arm():  \n",
    "    # init method or constructor\n",
    "    def __init__(self):    \n",
    "        i2c = busio.I2C(board.SCL, board.SDA)\n",
    "        pca = adafruit_pca9685.PCA9685(i2c)\n",
    "        self.kit = ServoKit(channels=16)\n",
    "        \n",
    "        self.joints = [ \n",
    "                        Joint(\"Rotation\",       self.kit.servo[5], min_value = 10, max_value = 170, home_position =  90),\n",
    "                        Joint(\"Lower arm\",      self.kit.servo[2], min_value = 45, max_value = 140, home_position = 100),\n",
    "                        Joint(\"Upper arm\",      self.kit.servo[4], min_value = 20, max_value = 120, home_position =  90),\n",
    "                        Joint(\"Wrist rotation\", self.kit.servo[1], min_value = 50, max_value = 130, home_position =  90),\n",
    "                        Joint(\"Wrist tilt\",     self.kit.servo[0], min_value = 50, max_value = 150, home_position = 125),\n",
    "                        Joint(\"Gripper\",        self.kit.servo[3], min_value =  5, max_value = 170, home_position =  90)\n",
    "                      ]\n",
    "        \n",
    "        self.locations = []\n",
    "\n",
    "    def __str__(self):\n",
    "        info = \"Arm status\\n\"\n",
    "        for joint in self.joints:\n",
    "            info = info + \"  \" +str(joint) + \"\\n\"\n",
    "        return info\n",
    "    \n",
    "    def home(self):\n",
    "        for joint in self.joints:\n",
    "            joint.home()\n",
    "            \n",
    "    def move(self, name, angle):\n",
    "        for joint in self.joints:\n",
    "            if(joint.name == name):\n",
    "                joint.move_to(angle)\n",
    "                \n",
    "    def goto(self, name, angle):\n",
    "        for joint in self.joints:\n",
    "            if(joint.name == name):\n",
    "                joint.servo.angle = angle\n",
    "\n",
    "    def clear_locations(self):\n",
    "        self.locations.clear()\n",
    "        \n",
    "    def save_location(self):\n",
    "        self.locations.append([joint.servo.angle for joint in self.joints])\n",
    "        \n",
    "    def run_locations(self):\n",
    "        for location in self.locations:\n",
    "            for (angle, joint) in zip(location, self.joints):\n",
    "                joint.move_to(angle)\n",
    "        \n",
    "    def stored_locations(self):\n",
    "        return len(self.locations)"
   ]
  },
  {
   "cell_type": "markdown",
   "id": "fe1e004b",
   "metadata": {},
   "source": [
    "### Arm Controller UI"
   ]
  },
  {
   "cell_type": "code",
   "execution_count": 236,
   "id": "cdbf0ce3",
   "metadata": {},
   "outputs": [],
   "source": [
    "import ipywidgets.widgets as widgets"
   ]
  },
  {
   "cell_type": "code",
   "execution_count": 237,
   "id": "c1f9dacf",
   "metadata": {},
   "outputs": [],
   "source": [
    "# Instanciate the arm object\n",
    "arm=Arm()"
   ]
  },
  {
   "cell_type": "markdown",
   "id": "5dfa3ef9",
   "metadata": {},
   "source": [
    "Callback from UI."
   ]
  },
  {
   "cell_type": "code",
   "execution_count": 238,
   "id": "6d488fce",
   "metadata": {},
   "outputs": [],
   "source": [
    "def handle_slider_change(change):\n",
    "    if change.new != change.old:\n",
    "        arm.move(change.owner.description, change.new)"
   ]
  },
  {
   "cell_type": "code",
   "execution_count": 239,
   "id": "b1fa1eb8",
   "metadata": {},
   "outputs": [],
   "source": [
    "def home_button_pressed(button):\n",
    "    arm.home()\n",
    "    update_sliders()"
   ]
  },
  {
   "cell_type": "code",
   "execution_count": 240,
   "id": "948b75c9",
   "metadata": {},
   "outputs": [],
   "source": [
    "def save_button_pressed(button):\n",
    "    arm.save_location()\n",
    "    message.value = f\"Stored points: {arm.stored_locations()}\""
   ]
  },
  {
   "cell_type": "code",
   "execution_count": 241,
   "id": "d1fc3f91",
   "metadata": {},
   "outputs": [],
   "source": [
    "def reset_button_pressed(button):\n",
    "    arm.clear_locations()\n",
    "    message.value = f\"Stored points: {arm.stored_locations()}\""
   ]
  },
  {
   "cell_type": "code",
   "execution_count": 242,
   "id": "503f5a90",
   "metadata": {},
   "outputs": [],
   "source": [
    "def play_button_pressed(button):\n",
    "    arm.run_locations()\n",
    "    message.value = f\"Done\""
   ]
  },
  {
   "cell_type": "code",
   "execution_count": 243,
   "id": "93979e76",
   "metadata": {},
   "outputs": [],
   "source": [
    "def update_sliders():\n",
    "    for i, joint in enumerate(arm.joints):\n",
    "        sliders[i].value = joint.servo.angle"
   ]
  },
  {
   "cell_type": "code",
   "execution_count": 244,
   "id": "e8d57d37",
   "metadata": {},
   "outputs": [],
   "source": [
    "sliders=[]\n",
    "for joint in arm.joints:\n",
    "    sliders.append(widgets.FloatSlider(value=joint.servo.angle, \n",
    "                                       min=joint.min_value, max=joint.max_value, step=1.0, description=joint.name,\n",
    "                                       disabled=False, continuous_update=False, orientation='horizontal',\n",
    "                                       readout=True, readout_format='.1f',layout=widgets.Layout(width='90%', height='50px')))\n",
    "    sliders[-1].observe(handle_slider_change, names='value')"
   ]
  },
  {
   "cell_type": "code",
   "execution_count": 245,
   "id": "2a7b85ca",
   "metadata": {},
   "outputs": [],
   "source": [
    "home_button = widgets.Button(description='Home', button_style='danger', layout=widgets.Layout(width='80%', height='40px'))\n",
    "home_button.on_click(home_button_pressed)\n",
    "save_button = widgets.Button(description='Save', button_style='success', layout=widgets.Layout(width='80%', height='40px'))\n",
    "save_button.on_click(save_button_pressed)\n",
    "reset_button = widgets.Button(description='Reset', button_style='warning', layout=widgets.Layout(width='80%', height='40px'))\n",
    "reset_button.on_click(reset_button_pressed)\n",
    "play_button = widgets.Button(description='Play', button_style='danger', layout=widgets.Layout(width='80%', height='40px'))\n",
    "play_button.on_click(play_button_pressed)\n",
    "message = widgets.Label(value=\"-\", layout=widgets.Layout(align_self='center'))\n",
    "message.value = f\"Stored points: {arm.stored_locations()}\""
   ]
  },
  {
   "cell_type": "code",
   "execution_count": 246,
   "id": "9b5c90de",
   "metadata": {},
   "outputs": [
    {
     "data": {
      "application/vnd.jupyter.widget-view+json": {
       "model_id": "42f18769b67f4dc5b0f85c752375de64",
       "version_major": 2,
       "version_minor": 0
      },
      "text/plain": [
       "HBox(children=(VBox(children=(FloatSlider(value=89.81699877999186, continuous_update=False, description='Rotat…"
      ]
     },
     "metadata": {},
     "output_type": "display_data"
    }
   ],
   "source": [
    "panel_sliders = widgets.VBox(sliders, layout=widgets.Layout(width='80%'))\n",
    "panel_buttons = widgets.VBox([home_button, save_button, reset_button, play_button, message],layout=widgets.Layout(width='15%'))\n",
    "display(widgets.HBox([panel_sliders,panel_buttons]))"
   ]
  },
  {
   "cell_type": "code",
   "execution_count": null,
   "id": "ae9df537",
   "metadata": {},
   "outputs": [],
   "source": []
  }
 ],
 "metadata": {
  "kernelspec": {
   "display_name": "Python 3",
   "language": "python",
   "name": "python3"
  },
  "language_info": {
   "codemirror_mode": {
    "name": "ipython",
    "version": 3
   },
   "file_extension": ".py",
   "mimetype": "text/x-python",
   "name": "python",
   "nbconvert_exporter": "python",
   "pygments_lexer": "ipython3",
   "version": "3.7.3"
  }
 },
 "nbformat": 4,
 "nbformat_minor": 5
}

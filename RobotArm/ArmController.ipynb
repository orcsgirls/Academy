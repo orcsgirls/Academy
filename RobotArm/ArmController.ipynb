{
 "cells": [
  {
   "cell_type": "markdown",
   "id": "4a24e627",
   "metadata": {},
   "source": [
    "### Adafruit PCA9685 16-Channel Servo Tests\n",
    "\n",
    "Checking out the servo comtrol board. You need to install the needed libraries using these commands in a terminal\n",
    "\n",
    "```\n",
    "sudo pip3 install adafruit-circuitpython-pca9685\n",
    "sudo pip3 install adafruit-circuitpython-servokit\n",
    "```\n",
    "\n"
   ]
  },
  {
   "cell_type": "code",
   "execution_count": 1,
   "id": "06c04244",
   "metadata": {},
   "outputs": [],
   "source": [
    "import time\n",
    "import board\n",
    "import busio\n",
    "import adafruit_pca9685\n",
    "from adafruit_servokit import ServoKit\n",
    "import itertools"
   ]
  },
  {
   "cell_type": "markdown",
   "id": "12d02806",
   "metadata": {},
   "source": [
    "### Arm Controller Class\n",
    "\n",
    "Simple class to control the arm."
   ]
  },
  {
   "cell_type": "code",
   "execution_count": 2,
   "id": "4078a320",
   "metadata": {},
   "outputs": [],
   "source": [
    "class Joint:\n",
    "    # init method or constructor\n",
    "    def __init__(self, name, servo, home_position=90, max_value=180, min_value=0, speed=30):\n",
    "         \n",
    "        self.name = name\n",
    "        self.servo = servo\n",
    "        self.max_value = max_value\n",
    "        self.min_value = min_value\n",
    "        self.speed = speed\n",
    "        self.home_position = home_position\n",
    "        \n",
    "        # Homing\n",
    "        self.servo.angle = self.home_position\n",
    "\n",
    "    # Output on print\n",
    "    def __str__(self):\n",
    "        return f\"{self.name} at position {self.servo.angle:.1f}\"\n",
    "        \n",
    "    # Move to angle at speed\n",
    "    def move_to(self, angle):\n",
    "    \n",
    "        start  = self.servo.angle    \n",
    "        points = abs(round(angle-start))\n",
    "        if (points>0):\n",
    "            delta  = (angle-start)/points\n",
    "            for p in range(points):\n",
    "                start=start+delta\n",
    "                self.servo.angle = start\n",
    "                time.sleep(1.0/self.speed)\n",
    "\n",
    "        self.servo.angle = angle\n",
    "        \n",
    "    # Go home\n",
    "    def home(self):\n",
    "        self.move_to(self.home_position)\n",
    "        "
   ]
  },
  {
   "cell_type": "code",
   "execution_count": 3,
   "id": "e5ea28ff",
   "metadata": {},
   "outputs": [],
   "source": [
    "class Arm():  \n",
    "    # init method or constructor\n",
    "    def __init__(self):    \n",
    "        i2c = busio.I2C(board.SCL, board.SDA)\n",
    "        pca = adafruit_pca9685.PCA9685(i2c)\n",
    "        self.kit = ServoKit(channels=16)\n",
    "        \n",
    "        self.joints = [ \n",
    "                        Joint(\"Rotation\",       self.kit.servo[0], min_value = 10, max_value = 170, home_position = 90),\n",
    "                        Joint(\"Lower arm\",      self.kit.servo[1], min_value = 45, max_value = 140, home_position = 90),\n",
    "                        Joint(\"Upper arm\",      self.kit.servo[2], min_value = 20, max_value = 120, home_position = 90),\n",
    "                        Joint(\"Wrist tilt\",     self.kit.servo[3], min_value = 50, max_value = 175, home_position = 90),\n",
    "                        Joint(\"Gripper\",        self.kit.servo[4], min_value =  5, max_value = 170, home_position = 90)\n",
    "                      ]\n",
    "        \n",
    "        self.locations = []\n",
    "\n",
    "    def __str__(self):\n",
    "        info = \"Arm status\\n\"\n",
    "        for joint in self.joints:\n",
    "            info = info + \"  \" +str(joint) + \"\\n\"\n",
    "        return info\n",
    "    \n",
    "    def home(self):\n",
    "        for joint in self.joints:\n",
    "            joint.home()\n",
    "            \n",
    "    def move(self, name, angle):\n",
    "        for joint in self.joints:\n",
    "            if(joint.name == name):\n",
    "                joint.move_to(angle)\n",
    "                \n",
    "    def goto(self, name, angle):\n",
    "        for joint in self.joints:\n",
    "            if(joint.name == name):\n",
    "                joint.servo.angle = angle\n",
    "\n",
    "    def clear_locations(self):\n",
    "        self.locations.clear()\n",
    "        \n",
    "    def save_location(self):\n",
    "        self.locations.append([joint.servo.angle for joint in self.joints])\n",
    "        \n",
    "    def run_locations(self):\n",
    "        for location in self.locations:\n",
    "            for (angle, joint) in zip(location, self.joints):\n",
    "                joint.move_to(angle)\n",
    "        \n",
    "    def stored_locations(self):\n",
    "        return len(self.locations)"
   ]
  },
  {
   "cell_type": "markdown",
   "id": "fe1e004b",
   "metadata": {},
   "source": [
    "### Arm Controller UI"
   ]
  },
  {
   "cell_type": "code",
   "execution_count": 4,
   "id": "cdbf0ce3",
   "metadata": {},
   "outputs": [],
   "source": [
    "import ipywidgets.widgets as widgets"
   ]
  },
  {
   "cell_type": "code",
   "execution_count": 5,
   "id": "c1f9dacf",
   "metadata": {},
   "outputs": [],
   "source": [
    "# Instanciate the arm object\n",
    "arm=Arm()"
   ]
  },
  {
   "cell_type": "markdown",
   "id": "5dfa3ef9",
   "metadata": {},
   "source": [
    "Callback from UI."
   ]
  },
  {
   "cell_type": "code",
   "execution_count": null,
   "id": "6d488fce",
   "metadata": {},
   "outputs": [],
   "source": [
    "def handle_slider_change(change):\n",
    "    if change.new != change.old:\n",
    "        arm.move(change.owner.description, change.new)"
   ]
  },
  {
   "cell_type": "code",
   "execution_count": null,
   "id": "b1fa1eb8",
   "metadata": {},
   "outputs": [],
   "source": [
    "def home_button_pressed(button):\n",
    "    arm.home()\n",
    "    update_sliders()"
   ]
  },
  {
   "cell_type": "code",
   "execution_count": null,
   "id": "948b75c9",
   "metadata": {},
   "outputs": [],
   "source": [
    "def save_button_pressed(button):\n",
    "    arm.save_location()\n",
    "    message.value = f\"Stored points: {arm.stored_locations()}\""
   ]
  },
  {
   "cell_type": "code",
   "execution_count": null,
   "id": "d1fc3f91",
   "metadata": {},
   "outputs": [],
   "source": [
    "def reset_button_pressed(button):\n",
    "    arm.clear_locations()\n",
    "    message.value = f\"Stored points: {arm.stored_locations()}\""
   ]
  },
  {
   "cell_type": "code",
   "execution_count": null,
   "id": "503f5a90",
   "metadata": {},
   "outputs": [],
   "source": [
    "def play_button_pressed(button):\n",
    "    arm.run_locations()\n",
    "    message.value = f\"Done\""
   ]
  },
  {
   "cell_type": "code",
   "execution_count": null,
   "id": "93979e76",
   "metadata": {},
   "outputs": [],
   "source": [
    "def update_sliders():\n",
    "    for i, joint in enumerate(arm.joints):\n",
    "        sliders[i].value = joint.servo.angle"
   ]
  },
  {
   "cell_type": "code",
   "execution_count": null,
   "id": "e8d57d37",
   "metadata": {},
   "outputs": [],
   "source": [
    "sliders=[]\n",
    "for joint in arm.joints:\n",
    "    sliders.append(widgets.FloatSlider(value=joint.servo.angle, \n",
    "                                       min=joint.min_value, max=joint.max_value, step=1.0, description=joint.name,\n",
    "                                       disabled=False, continuous_update=False, orientation='horizontal',\n",
    "                                       readout=True, readout_format='.1f',layout=widgets.Layout(width='90%', height='50px')))\n",
    "    sliders[-1].observe(handle_slider_change, names='value')"
   ]
  },
  {
   "cell_type": "code",
   "execution_count": null,
   "id": "2a7b85ca",
   "metadata": {},
   "outputs": [],
   "source": [
    "home_button = widgets.Button(description='Home', button_style='danger', layout=widgets.Layout(width='80%', height='40px'))\n",
    "home_button.on_click(home_button_pressed)\n",
    "save_button = widgets.Button(description='Save', button_style='success', layout=widgets.Layout(width='80%', height='40px'))\n",
    "save_button.on_click(save_button_pressed)\n",
    "reset_button = widgets.Button(description='Reset', button_style='warning', layout=widgets.Layout(width='80%', height='40px'))\n",
    "reset_button.on_click(reset_button_pressed)\n",
    "play_button = widgets.Button(description='Play', button_style='danger', layout=widgets.Layout(width='80%', height='40px'))\n",
    "play_button.on_click(play_button_pressed)\n",
    "message = widgets.Label(value=\"-\", layout=widgets.Layout(align_self='center'))\n",
    "message.value = f\"Stored points: {arm.stored_locations()}\""
   ]
  },
  {
   "cell_type": "code",
   "execution_count": null,
   "id": "9b5c90de",
   "metadata": {},
   "outputs": [],
   "source": [
    "panel_sliders = widgets.VBox(sliders, layout=widgets.Layout(width='80%'))\n",
    "panel_buttons = widgets.VBox([home_button, save_button, reset_button, play_button, message],layout=widgets.Layout(width='15%'))\n",
    "display(widgets.HBox([panel_sliders,panel_buttons]))"
   ]
  },
  {
   "cell_type": "markdown",
   "id": "ae10bf40",
   "metadata": {},
   "source": [
    "### Game Controller\n",
    "\n",
    "Do not run opther widgets or performance gets super bad :)"
   ]
  },
  {
   "cell_type": "code",
   "execution_count": null,
   "id": "99b1f502",
   "metadata": {},
   "outputs": [],
   "source": [
    "controller = widgets.Controller(index=0)\n",
    "display(controller)"
   ]
  },
  {
   "cell_type": "code",
   "execution_count": null,
   "id": "78436ae8",
   "metadata": {},
   "outputs": [],
   "source": [
    "def onChangeGripper(change):\n",
    "    if abs(change.new - change.old) > 0.001:\n",
    "        new = 90 + 45*change.new\n",
    "        arm.move(\"Gripper\", new)\n",
    "\n",
    "def onChangeWrist(change):\n",
    "    if abs(change.new - change.old) > 0.001:\n",
    "        new = 90 + 25*change.new\n",
    "        arm.move(\"Wrist tilt\", new)\n",
    "        \n",
    "controller.axes[0].observe(onChangeWrist, names='value')\n",
    "controller.axes[1].observe(onChangeGripper, names='value')"
   ]
  },
  {
   "cell_type": "markdown",
   "id": "49981706",
   "metadata": {},
   "source": [
    "### Using GameContoller natively\n",
    "\n",
    "This needs the code from https://github.com/piborg/Gamepad and the controller dongle is plugged into the middle USB port of the Raspberry Pi."
   ]
  },
  {
   "cell_type": "code",
   "execution_count": 6,
   "id": "d13505fc",
   "metadata": {},
   "outputs": [],
   "source": [
    "# Load the gamepad and time libraries\n",
    "import Gamepad\n",
    "import time"
   ]
  },
  {
   "cell_type": "code",
   "execution_count": null,
   "id": "4275d3e2",
   "metadata": {},
   "outputs": [
    {
     "name": "stdout",
     "output_type": "stream",
     "text": [
      "Gamepad connected\n"
     ]
    }
   ],
   "source": [
    "# Gamepad settings\n",
    "running = True\n",
    "\n",
    "# Wait for a connection\n",
    "if not Gamepad.available():\n",
    "    print('Please connect your gamepad...')\n",
    "    while not Gamepad.available():\n",
    "        time.sleep(1.0)\n",
    "        \n",
    "gamepad = Gamepad.Android()\n",
    "print('Gamepad connected')\n",
    "\n",
    "# Handle joystick updates one at a time\n",
    "while running and gamepad.isConnected():\n",
    "    # Wait for the next event\n",
    "    eventType, control, value = gamepad.getNextEvent()\n",
    "\n",
    "    # Determine the type\n",
    "    if eventType == 'BUTTON':\n",
    "        if control == 'X':\n",
    "            # Exit button (event on press)\n",
    "            if value:\n",
    "                print('EXIT')\n",
    "                running = False\n",
    "                \n",
    "    elif eventType == 'AXIS':\n",
    "        # Joystick changed\n",
    "        if control == 'LEFT-Y':\n",
    "            new = 90 + 45*value\n",
    "            arm.goto(\"Gripper\", new)\n",
    "        elif control == 'LEFT-X':\n",
    "            new = 90 + 45*value\n",
    "            arm.goto(\"Wrist tilt\", new)\n",
    "        elif control == 'RIGHT-Y':\n",
    "            new = 90 + 45*value\n",
    "            arm.goto(\"Upper arm\", new)\n",
    "        elif control == 'RIGHT-X':\n",
    "            new = 90 + 45*value\n",
    "            arm.goto(\"Lower arm\", new)\n",
    "        elif control =='DPAD-X':\n",
    "            new = \n",
    "    \n",
    "    #print(f\"{eventType}, {control}, {value}\")"
   ]
  },
  {
   "cell_type": "code",
   "execution_count": null,
   "id": "4272ba82",
   "metadata": {},
   "outputs": [],
   "source": [
    "arm.home()"
   ]
  },
  {
   "cell_type": "code",
   "execution_count": null,
   "id": "faeac57b",
   "metadata": {},
   "outputs": [],
   "source": []
  }
 ],
 "metadata": {
  "kernelspec": {
   "display_name": "Python 3",
   "language": "python",
   "name": "python3"
  },
  "language_info": {
   "codemirror_mode": {
    "name": "ipython",
    "version": 3
   },
   "file_extension": ".py",
   "mimetype": "text/x-python",
   "name": "python",
   "nbconvert_exporter": "python",
   "pygments_lexer": "ipython3",
   "version": "3.7.3"
  }
 },
 "nbformat": 4,
 "nbformat_minor": 5
}
